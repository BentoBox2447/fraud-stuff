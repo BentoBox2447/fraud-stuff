{
 "cells": [
  {
   "cell_type": "markdown",
   "metadata": {},
   "source": [
    "# Libraries"
   ]
  },
  {
   "cell_type": "code",
   "execution_count": null,
   "metadata": {},
   "outputs": [],
   "source": [
    "import pandas as pd\n",
    "import numpy as np\n",
    "import matplotlib.pyplot as plt\n",
    "import itertools"
   ]
  },
  {
   "cell_type": "code",
   "execution_count": null,
   "metadata": {},
   "outputs": [],
   "source": [
    "from sklearn.metrics import roc_curve,auc, roc_auc_score, classification_report\n",
    "from sklearn.metrics import confusion_matrix"
   ]
  },
  {
   "cell_type": "markdown",
   "metadata": {},
   "source": [
    "__________________________________"
   ]
  },
  {
   "cell_type": "markdown",
   "metadata": {},
   "source": [
    "# Data"
   ]
  },
  {
   "cell_type": "code",
   "execution_count": null,
   "metadata": {},
   "outputs": [],
   "source": [
    "data = pd.read_csv('data/data.csv')"
   ]
  },
  {
   "cell_type": "code",
   "execution_count": null,
   "metadata": {},
   "outputs": [],
   "source": [
    "data.head()"
   ]
  },
  {
   "cell_type": "markdown",
   "metadata": {},
   "source": [
    "________________________________________________"
   ]
  },
  {
   "cell_type": "markdown",
   "metadata": {},
   "source": [
    "# New Data\n",
    "- create new columns based on models predicted scores"
   ]
  },
  {
   "cell_type": "code",
   "execution_count": null,
   "metadata": {},
   "outputs": [],
   "source": [
    "# creating new columns based on models predicted scores\n",
    "\n",
    "data['sas_predicted'] = np.where(data['sas_pred'] >= .500000, 1, 0)\n",
    "data['xgboost_predicted'] = np.where(data['xgboost_pred'] >= .500000, 1, 0)"
   ]
  },
  {
   "cell_type": "code",
   "execution_count": null,
   "metadata": {},
   "outputs": [],
   "source": [
    "data.head()"
   ]
  },
  {
   "cell_type": "markdown",
   "metadata": {},
   "source": [
    "________________________________"
   ]
  },
  {
   "cell_type": "markdown",
   "metadata": {},
   "source": [
    "# **Confusion Matrix**"
   ]
  },
  {
   "cell_type": "code",
   "execution_count": null,
   "metadata": {
    "jupyter": {
     "source_hidden": true
    }
   },
   "outputs": [],
   "source": [
    "#Evaluation of Model - Confusion Matrix Plot\n",
    "def plot_confusion_matrix(cm, classes,\n",
    "                          normalize=False,\n",
    "                          title='Confusion matrix',\n",
    "                          cmap=plt.cm.Blues):\n",
    "    \"\"\"\n",
    "    This function prints and plots the confusion matrix.\n",
    "    Normalization can be applied by setting `normalize=True`.\n",
    "    \"\"\"\n",
    "    if normalize:\n",
    "        cm = cm.astype('float') / cm.sum(axis=1)[:, np.newaxis]\n",
    "        print(\"Normalized confusion matrix\")\n",
    "    else:\n",
    "        print('Confusion matrix, without normalization')\n",
    "\n",
    "    print(cm)\n",
    "\n",
    "    plt.imshow(cm, interpolation='nearest', cmap=cmap)\n",
    "    plt.title(title)\n",
    "    plt.colorbar()\n",
    "    tick_marks = np.arange(len(classes))\n",
    "    plt.xticks(tick_marks, classes, rotation=45)\n",
    "    plt.yticks(tick_marks, classes)\n",
    "\n",
    "    fmt = '.2f' if normalize else 'd'\n",
    "    thresh = cm.max() / 2.\n",
    "    for i, j in itertools.product(range(cm.shape[0]), range(cm.shape[1])):\n",
    "        plt.text(j, i, format(cm[i, j], fmt),\n",
    "                 horizontalalignment=\"center\",\n",
    "                 color=\"white\" if cm[i, j] > thresh else \"black\")\n",
    "\n",
    "    plt.ylabel('True label')\n",
    "    plt.xlabel('Predicted label')\n",
    "    plt.tight_layout()"
   ]
  },
  {
   "cell_type": "markdown",
   "metadata": {},
   "source": [
    "# SAS"
   ]
  },
  {
   "cell_type": "code",
   "execution_count": null,
   "metadata": {},
   "outputs": [],
   "source": [
    "# Compute confusion matrix\n",
    "sas_cnf_matrix = confusion_matrix(data.isFraud, data.sas_predicted)\n",
    "\n",
    "# Sas matrix not normalized\n",
    "plt.figure()\n",
    "plot_confusion_matrix(sas_cnf_matrix, classes=['Not Fraud','Fraud'],\n",
    "                      title='SAS')\n",
    "\n",
    "# SAS matrix normalized\n",
    "plt.figure()\n",
    "plot_confusion_matrix(sas_cnf_matrix, normalize = True, classes=['Not Fraud','Fraud'],\n",
    "                      title='SAS - Normalized')"
   ]
  },
  {
   "cell_type": "markdown",
   "metadata": {},
   "source": [
    "# XG Boost"
   ]
  },
  {
   "cell_type": "code",
   "execution_count": null,
   "metadata": {},
   "outputs": [],
   "source": [
    "# Compute confusion matrix\n",
    "xgb_cnf_matrix = confusion_matrix(data.isFraud, data.xgboost_predicted)\n",
    "# Plot confusion matrix\n",
    "\n",
    "plt.figure()\n",
    "plot_confusion_matrix(xgb_cnf_matrix, classes=['Not Fraud','Fraud'],\n",
    "                      title='Xg Boost')\n",
    "\n",
    "plt.figure()\n",
    "plot_confusion_matrix(xgb_cnf_matrix, normalize = True, classes=['Not Fraud','Fraud'],\n",
    "                      title='Xg Boost - Normalized')"
   ]
  },
  {
   "cell_type": "markdown",
   "metadata": {},
   "source": [
    "_____________________________________________"
   ]
  },
  {
   "cell_type": "markdown",
   "metadata": {},
   "source": [
    "# **ROC Curve**"
   ]
  },
  {
   "cell_type": "code",
   "execution_count": null,
   "metadata": {},
   "outputs": [],
   "source": [
    "# from sklearn.metrics import roc_curve,auc, roc_auc_score, classification_report\n",
    "# from sklearn.metrics import confusion_matrix"
   ]
  },
  {
   "cell_type": "markdown",
   "metadata": {},
   "source": [
    "# **SAS**"
   ]
  },
  {
   "cell_type": "code",
   "execution_count": null,
   "metadata": {},
   "outputs": [],
   "source": [
    "FPR, TPR, thresholds = roc_curve(data.isFraud, data.sas_pred)\n",
    "\n",
    "def plot_roc_curve(FPR, TPR):\n",
    "    plt.plot(FPR, TPR, color='orange', label='ROC')\n",
    "    plt.plot([0, 1], [0, 1], color='darkblue', linestyle='--')\n",
    "    plt.xlabel('False Positive Rate')\n",
    "    plt.ylabel('True Positive Rate')\n",
    "    plt.title('Receiver Operating Characteristic (ROC) Curve\\nSAS')\n",
    "    plt.legend()\n",
    "    plt.show()\n",
    "\n",
    "plot_roc_curve(FPR, TPR)\n"
   ]
  },
  {
   "cell_type": "markdown",
   "metadata": {},
   "source": [
    "# **XG Boost**"
   ]
  },
  {
   "cell_type": "code",
   "execution_count": null,
   "metadata": {},
   "outputs": [],
   "source": [
    "fpr, tpr, thresholds = roc_curve(data.isFraud, data.xgboost_pred)\n",
    "\n",
    "def plot_roc_curve(fpr, tpr):\n",
    "    plt.plot(fpr, tpr, color='blue', label='ROC')\n",
    "    plt.plot([0, 1], [0, 1], color='darkblue', linestyle='--')\n",
    "    plt.xlabel('False Positive Rate')\n",
    "    plt.ylabel('True Positive Rate')\n",
    "    plt.title('Receiver Operating Characteristic (ROC) Curve \\n XG Boost')\n",
    "    plt.legend()\n",
    "    plt.show()\n",
    "\n",
    "plot_roc_curve(fpr, tpr)"
   ]
  },
  {
   "cell_type": "markdown",
   "metadata": {},
   "source": [
    "# **ROC Layered**"
   ]
  },
  {
   "cell_type": "code",
   "execution_count": null,
   "metadata": {},
   "outputs": [],
   "source": [
    "plt.figure(figsize=(10,6))\n",
    "\n",
    "FPR, TPR, thresholds = roc_curve(data.isFraud, data.sas_pred)\n",
    "fpr, tpr, thresholds = roc_curve(data.isFraud, data.xgboost_pred)\n",
    "\n",
    "def plot_roc_curve(FPR, TPR, fpr, tpr):\n",
    "    plt.plot(fpr, tpr, color='blue', label='XG Boost')\n",
    "    plt.plot(FPR, TPR, color = 'orange', label = \"SAS\")\n",
    "    plt.plot([0, 1], [0, 1], color='darkblue', linestyle='--')\n",
    "    plt.xlabel('False Positive Rate')\n",
    "    plt.ylabel('True Positive Rate')\n",
    "    plt.title('Receiver Operating Characteristic (ROC) Curve\\n SAS & XBG')\n",
    "    plt.legend(loc=\"lower right\")\n",
    "    plt.show()\n",
    "\n",
    "plot_roc_curve(FPR, TPR, fpr, tpr)\n"
   ]
  },
  {
   "cell_type": "markdown",
   "metadata": {},
   "source": [
    "_________________________________________"
   ]
  },
  {
   "cell_type": "markdown",
   "metadata": {},
   "source": [
    "# **Results**"
   ]
  },
  {
   "cell_type": "markdown",
   "metadata": {},
   "source": [
    "# SAS"
   ]
  },
  {
   "cell_type": "code",
   "execution_count": null,
   "metadata": {},
   "outputs": [],
   "source": [
    "print(\"SAS Report\\n\")\n",
    "print('roc_auc_score: %0.3f'% roc_auc_score(data.isFraud, data.sas_predicted))\n",
    "print(\"----------------------------------------------------------------------\")\n",
    "print(\"SAS\", classification_report(data.isFraud, data.sas_predicted))\n",
    "print(\"----------------------------------------------------------------------\")\n",
    "print(\"Confusion matrix \\n\",confusion_matrix(data.isFraud, data.sas_predicted))"
   ]
  },
  {
   "cell_type": "markdown",
   "metadata": {},
   "source": [
    "# XG Boost"
   ]
  },
  {
   "cell_type": "code",
   "execution_count": null,
   "metadata": {},
   "outputs": [],
   "source": [
    "print(\"XG Boost Report\\n\")\n",
    "print('roc_auc_score: %0.3f'% roc_auc_score(data.isFraud, data.xgboost_predicted))\n",
    "print(\"----------------------------------------------------------------------\")\n",
    "print(\"XG Boost\", classification_report(data.isFraud, data.xgboost_predicted))\n",
    "print(\"----------------------------------------------------------------------\")\n",
    "print(\"Confusion matrix \\n\",confusion_matrix(data.isFraud, data.xgboost_predicted))"
   ]
  },
  {
   "cell_type": "markdown",
   "metadata": {},
   "source": [
    "______________________________"
   ]
  },
  {
   "cell_type": "markdown",
   "metadata": {},
   "source": [
    "# Density Plots"
   ]
  },
  {
   "cell_type": "code",
   "execution_count": null,
   "metadata": {},
   "outputs": [],
   "source": [
    "data.head()"
   ]
  },
  {
   "cell_type": "code",
   "execution_count": null,
   "metadata": {},
   "outputs": [],
   "source": [
    "data = data.drop([\n",
    "    'sas_predicted', \n",
    "    'xgboost_predicted', \n",
    "    'TransactionID', \n",
    "    'ID', \n",
    "    'Unnamed: 0'], axis = 1)"
   ]
  },
  {
   "cell_type": "markdown",
   "metadata": {},
   "source": [
    "# SAS\n",
    "- Filter TP \n",
    "- Filter FN"
   ]
  },
  {
   "cell_type": "code",
   "execution_count": null,
   "metadata": {},
   "outputs": [],
   "source": [
    "# SAS True Positive \n",
    "sas_true_pos = data[(data['sas_pred'] >= 0.5000000) & (data['isFraud'] == 1 )]\n",
    "print(sas_true_pos.isFraud.value_counts())"
   ]
  },
  {
   "cell_type": "code",
   "execution_count": null,
   "metadata": {},
   "outputs": [],
   "source": [
    "# SAS False Negative\n",
    "sas_false_neg = data[(data['sas_pred'] <= 0.49999999999) & (data['isFraud'] == 1 )]\n",
    "print(sas_false_neg.isFraud.value_counts())"
   ]
  },
  {
   "cell_type": "markdown",
   "metadata": {},
   "source": [
    "# XG Boost\n",
    "- Filter TP\n",
    "- Filter FN"
   ]
  },
  {
   "cell_type": "code",
   "execution_count": null,
   "metadata": {},
   "outputs": [],
   "source": [
    "# XGBoost True Positive \n",
    "xgb_true_pos = data[(data['xgboost_pred'] >= 0.5000000) & (data['isFraud'] == 1 )]\n",
    "print(xgb_true_pos.isFraud.value_counts())"
   ]
  },
  {
   "cell_type": "code",
   "execution_count": null,
   "metadata": {},
   "outputs": [],
   "source": [
    "# XGBoost False Negative\n",
    "xgb_false_neg = data[(data['xgboost_pred'] <= 0.49999999999) & (data['isFraud'] == 1 )]\n",
    "print(xgb_false_neg.isFraud.value_counts())"
   ]
  },
  {
   "cell_type": "markdown",
   "metadata": {},
   "source": [
    "# Plots\n",
    "- XGB TP vs SAS FN\n",
    "- SAS TP vs XBG FN"
   ]
  },
  {
   "cell_type": "code",
   "execution_count": null,
   "metadata": {},
   "outputs": [],
   "source": [
    "import seaborn as sns"
   ]
  },
  {
   "cell_type": "code",
   "execution_count": null,
   "metadata": {},
   "outputs": [],
   "source": [
    "plt.figure(figsize = (10, 6))\n",
    "XGB_TP= sns.kdeplot(xgb_true_pos['xgboost_pred'], shade = True, color = \"b\", label = 'XGB TP');\n",
    "SAS_FN= sns.kdeplot(sas_false_neg['sas_pred'], shade = True, color = \"r\", label = 'SAS FN');\n",
    "plt.title('XG-Boost True Positive &\\n SAS False Negative')"
   ]
  },
  {
   "cell_type": "code",
   "execution_count": null,
   "metadata": {},
   "outputs": [],
   "source": [
    "plt.figure(figsize = (10, 6))\n",
    "XGB_FN= sns.kdeplot(xgb_false_neg['xgboost_pred'], shade = True, color = \"b\", label = 'XGB FN');\n",
    "SAS_TP= sns.kdeplot(sas_true_pos['sas_pred'], shade = True, color = \"r\", label = 'SAS TP');\n",
    "plt.title('XG-Boost False Negative &\\n SAS True Positive')"
   ]
  },
  {
   "cell_type": "code",
   "execution_count": null,
   "metadata": {},
   "outputs": [],
   "source": [
    "# False Negatives Comparison\n",
    "\n",
    "XGB_FN= sns.kdeplot(xgb_false_neg['xgboost_pred'], shade = True, color = \"b\", label = 'XGB FN');\n",
    "SAS_FN= sns.kdeplot(sas_false_neg['sas_pred'], shade = True, color = \"r\", label = 'SAS FN');\n",
    "plt.title('XG-Boost & SAS \\nFalse Negatives')"
   ]
  },
  {
   "cell_type": "code",
   "execution_count": null,
   "metadata": {},
   "outputs": [],
   "source": [
    "# True Positives Comparison\n",
    "\n",
    "SAS_TP= sns.kdeplot(sas_true_pos['sas_pred'], shade = True, color = \"r\", label = 'SAS TP');\n",
    "XGB_TP= sns.kdeplot(xgb_true_pos['xgboost_pred'], shade = True, color = \"b\", label = 'XGB TP');\n",
    "plt.title('XG-Boost & SAS\\n True Positive')"
   ]
  },
  {
   "cell_type": "code",
   "execution_count": null,
   "metadata": {},
   "outputs": [],
   "source": []
  }
 ],
 "metadata": {
  "kernelspec": {
   "display_name": "Python 3",
   "language": "python",
   "name": "python3"
  },
  "language_info": {
   "codemirror_mode": {
    "name": "ipython",
    "version": 3
   },
   "file_extension": ".py",
   "mimetype": "text/x-python",
   "name": "python",
   "nbconvert_exporter": "python",
   "pygments_lexer": "ipython3",
   "version": "3.7.3"
  }
 },
 "nbformat": 4,
 "nbformat_minor": 4
}
