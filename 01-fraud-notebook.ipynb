{
 "cells": [
  {
   "cell_type": "markdown",
   "metadata": {},
   "source": [
    "# Libraries"
   ]
  },
  {
   "cell_type": "code",
   "execution_count": 1,
   "metadata": {},
   "outputs": [],
   "source": [
    "import pandas as pd\n",
    "import numpy as np\n",
    "import matplotlib.pyplot as plt\n",
    "import itertools"
   ]
  },
  {
   "cell_type": "code",
   "execution_count": 2,
   "metadata": {},
   "outputs": [],
   "source": [
    "from sklearn.metrics import roc_curve,auc, roc_auc_score, classification_report\n",
    "from sklearn.metrics import confusion_matrix"
   ]
  },
  {
   "cell_type": "markdown",
   "metadata": {},
   "source": [
    "__________________________________"
   ]
  },
  {
   "cell_type": "markdown",
   "metadata": {},
   "source": [
    "# Data"
   ]
  },
  {
   "cell_type": "code",
   "execution_count": 3,
   "metadata": {},
   "outputs": [],
   "source": [
    "data = pd.read_csv('data/data.csv')"
   ]
  },
  {
   "cell_type": "code",
   "execution_count": 4,
   "metadata": {},
   "outputs": [
    {
     "data": {
      "text/html": [
       "<div>\n",
       "<style scoped>\n",
       "    .dataframe tbody tr th:only-of-type {\n",
       "        vertical-align: middle;\n",
       "    }\n",
       "\n",
       "    .dataframe tbody tr th {\n",
       "        vertical-align: top;\n",
       "    }\n",
       "\n",
       "    .dataframe thead th {\n",
       "        text-align: right;\n",
       "    }\n",
       "</style>\n",
       "<table border=\"1\" class=\"dataframe\">\n",
       "  <thead>\n",
       "    <tr style=\"text-align: right;\">\n",
       "      <th></th>\n",
       "      <th>Unnamed: 0</th>\n",
       "      <th>ID</th>\n",
       "      <th>sas_pred</th>\n",
       "      <th>TransactionID</th>\n",
       "      <th>xgboost_pred</th>\n",
       "      <th>isFraud</th>\n",
       "    </tr>\n",
       "  </thead>\n",
       "  <tbody>\n",
       "    <tr>\n",
       "      <th>0</th>\n",
       "      <td>0</td>\n",
       "      <td>2987006</td>\n",
       "      <td>0.01276</td>\n",
       "      <td>2987006</td>\n",
       "      <td>0.009477</td>\n",
       "      <td>0</td>\n",
       "    </tr>\n",
       "    <tr>\n",
       "      <th>1</th>\n",
       "      <td>1</td>\n",
       "      <td>2987011</td>\n",
       "      <td>0.01111</td>\n",
       "      <td>2987011</td>\n",
       "      <td>0.011886</td>\n",
       "      <td>0</td>\n",
       "    </tr>\n",
       "    <tr>\n",
       "      <th>2</th>\n",
       "      <td>2</td>\n",
       "      <td>2987018</td>\n",
       "      <td>0.00869</td>\n",
       "      <td>2987018</td>\n",
       "      <td>0.003172</td>\n",
       "      <td>0</td>\n",
       "    </tr>\n",
       "    <tr>\n",
       "      <th>3</th>\n",
       "      <td>3</td>\n",
       "      <td>2987031</td>\n",
       "      <td>0.00848</td>\n",
       "      <td>2987031</td>\n",
       "      <td>0.006850</td>\n",
       "      <td>0</td>\n",
       "    </tr>\n",
       "    <tr>\n",
       "      <th>4</th>\n",
       "      <td>4</td>\n",
       "      <td>2987037</td>\n",
       "      <td>0.00825</td>\n",
       "      <td>2987037</td>\n",
       "      <td>0.002263</td>\n",
       "      <td>0</td>\n",
       "    </tr>\n",
       "  </tbody>\n",
       "</table>\n",
       "</div>"
      ],
      "text/plain": [
       "   Unnamed: 0       ID  sas_pred  TransactionID  xgboost_pred  isFraud\n",
       "0           0  2987006   0.01276        2987006      0.009477        0\n",
       "1           1  2987011   0.01111        2987011      0.011886        0\n",
       "2           2  2987018   0.00869        2987018      0.003172        0\n",
       "3           3  2987031   0.00848        2987031      0.006850        0\n",
       "4           4  2987037   0.00825        2987037      0.002263        0"
      ]
     },
     "execution_count": 4,
     "metadata": {},
     "output_type": "execute_result"
    }
   ],
   "source": [
    "data.head()"
   ]
  },
  {
   "cell_type": "markdown",
   "metadata": {},
   "source": [
    "________________________________________________"
   ]
  },
  {
   "cell_type": "markdown",
   "metadata": {},
   "source": [
    "# New Data\n",
    "- create new columns based on models predicted scores"
   ]
  },
  {
   "cell_type": "code",
   "execution_count": 5,
   "metadata": {},
   "outputs": [],
   "source": [
    "# creating new columns based on models predicted scores\n",
    "\n",
    "data['sas_predicted'] = np.where(data['sas_pred'] >= .500000, 1, 0)\n",
    "data['xgboost_predicted'] = np.where(data['xgboost_pred'] >= .500000, 1, 0)"
   ]
  },
  {
   "cell_type": "code",
   "execution_count": 6,
   "metadata": {},
   "outputs": [
    {
     "data": {
      "text/html": [
       "<div>\n",
       "<style scoped>\n",
       "    .dataframe tbody tr th:only-of-type {\n",
       "        vertical-align: middle;\n",
       "    }\n",
       "\n",
       "    .dataframe tbody tr th {\n",
       "        vertical-align: top;\n",
       "    }\n",
       "\n",
       "    .dataframe thead th {\n",
       "        text-align: right;\n",
       "    }\n",
       "</style>\n",
       "<table border=\"1\" class=\"dataframe\">\n",
       "  <thead>\n",
       "    <tr style=\"text-align: right;\">\n",
       "      <th></th>\n",
       "      <th>Unnamed: 0</th>\n",
       "      <th>ID</th>\n",
       "      <th>sas_pred</th>\n",
       "      <th>TransactionID</th>\n",
       "      <th>xgboost_pred</th>\n",
       "      <th>isFraud</th>\n",
       "      <th>sas_predicted</th>\n",
       "      <th>xgboost_predicted</th>\n",
       "    </tr>\n",
       "  </thead>\n",
       "  <tbody>\n",
       "    <tr>\n",
       "      <th>0</th>\n",
       "      <td>0</td>\n",
       "      <td>2987006</td>\n",
       "      <td>0.01276</td>\n",
       "      <td>2987006</td>\n",
       "      <td>0.009477</td>\n",
       "      <td>0</td>\n",
       "      <td>0</td>\n",
       "      <td>0</td>\n",
       "    </tr>\n",
       "    <tr>\n",
       "      <th>1</th>\n",
       "      <td>1</td>\n",
       "      <td>2987011</td>\n",
       "      <td>0.01111</td>\n",
       "      <td>2987011</td>\n",
       "      <td>0.011886</td>\n",
       "      <td>0</td>\n",
       "      <td>0</td>\n",
       "      <td>0</td>\n",
       "    </tr>\n",
       "    <tr>\n",
       "      <th>2</th>\n",
       "      <td>2</td>\n",
       "      <td>2987018</td>\n",
       "      <td>0.00869</td>\n",
       "      <td>2987018</td>\n",
       "      <td>0.003172</td>\n",
       "      <td>0</td>\n",
       "      <td>0</td>\n",
       "      <td>0</td>\n",
       "    </tr>\n",
       "    <tr>\n",
       "      <th>3</th>\n",
       "      <td>3</td>\n",
       "      <td>2987031</td>\n",
       "      <td>0.00848</td>\n",
       "      <td>2987031</td>\n",
       "      <td>0.006850</td>\n",
       "      <td>0</td>\n",
       "      <td>0</td>\n",
       "      <td>0</td>\n",
       "    </tr>\n",
       "    <tr>\n",
       "      <th>4</th>\n",
       "      <td>4</td>\n",
       "      <td>2987037</td>\n",
       "      <td>0.00825</td>\n",
       "      <td>2987037</td>\n",
       "      <td>0.002263</td>\n",
       "      <td>0</td>\n",
       "      <td>0</td>\n",
       "      <td>0</td>\n",
       "    </tr>\n",
       "  </tbody>\n",
       "</table>\n",
       "</div>"
      ],
      "text/plain": [
       "   Unnamed: 0       ID  sas_pred  TransactionID  xgboost_pred  isFraud  \\\n",
       "0           0  2987006   0.01276        2987006      0.009477        0   \n",
       "1           1  2987011   0.01111        2987011      0.011886        0   \n",
       "2           2  2987018   0.00869        2987018      0.003172        0   \n",
       "3           3  2987031   0.00848        2987031      0.006850        0   \n",
       "4           4  2987037   0.00825        2987037      0.002263        0   \n",
       "\n",
       "   sas_predicted  xgboost_predicted  \n",
       "0              0                  0  \n",
       "1              0                  0  \n",
       "2              0                  0  \n",
       "3              0                  0  \n",
       "4              0                  0  "
      ]
     },
     "execution_count": 6,
     "metadata": {},
     "output_type": "execute_result"
    }
   ],
   "source": [
    "data.head()"
   ]
  },
  {
   "cell_type": "markdown",
   "metadata": {},
   "source": [
    "________________________________"
   ]
  },
  {
   "cell_type": "markdown",
   "metadata": {},
   "source": [
    "# **Confusion Matrix**"
   ]
  },
  {
   "cell_type": "code",
   "execution_count": 7,
   "metadata": {
    "jupyter": {
     "source_hidden": true
    }
   },
   "outputs": [],
   "source": [
    "#Evaluation of Model - Confusion Matrix Plot\n",
    "def plot_confusion_matrix(cm, classes,\n",
    "                          normalize=False,\n",
    "                          title='Confusion matrix',\n",
    "                          cmap=plt.cm.Blues):\n",
    "    \"\"\"\n",
    "    This function prints and plots the confusion matrix.\n",
    "    Normalization can be applied by setting `normalize=True`.\n",
    "    \"\"\"\n",
    "    if normalize:\n",
    "        cm = cm.astype('float') / cm.sum(axis=1)[:, np.newaxis]\n",
    "        print(\"Normalized confusion matrix\")\n",
    "    else:\n",
    "        print('Confusion matrix, without normalization')\n",
    "\n",
    "    print(cm)\n",
    "\n",
    "    plt.imshow(cm, interpolation='nearest', cmap=cmap)\n",
    "    plt.title(title)\n",
    "    plt.colorbar()\n",
    "    tick_marks = np.arange(len(classes))\n",
    "    plt.xticks(tick_marks, classes, rotation=45)\n",
    "    plt.yticks(tick_marks, classes)\n",
    "\n",
    "    fmt = '.2f' if normalize else 'd'\n",
    "    thresh = cm.max() / 2.\n",
    "    for i, j in itertools.product(range(cm.shape[0]), range(cm.shape[1])):\n",
    "        plt.text(j, i, format(cm[i, j], fmt),\n",
    "                 horizontalalignment=\"center\",\n",
    "                 color=\"white\" if cm[i, j] > thresh else \"black\")\n",
    "\n",
    "    plt.ylabel('True label')\n",
    "    plt.xlabel('Predicted label')\n",
    "    plt.tight_layout()"
   ]
  },
  {
   "cell_type": "markdown",
   "metadata": {},
   "source": [
    "# SAS"
   ]
  },
  {
   "cell_type": "code",
   "execution_count": 8,
   "metadata": {},
   "outputs": [
    {
     "name": "stdout",
     "output_type": "stream",
     "text": [
      "Confusion matrix, without normalization\n",
      "[[34126    67]\n",
      " [  933   307]]\n",
      "Normalized confusion matrix\n",
      "[[0.99804053 0.00195947]\n",
      " [0.75241935 0.24758065]]\n"
     ]
    },
    {
     "data": {
      "image/png": "[encoded data removed]",
      "text/plain": [
       "<Figure size 432x288 with 2 Axes>"
      ]
     },
     "metadata": {
      "needs_background": "light"
     },
     "output_type": "display_data"
    },
    {
     "data": {
      "image/png": "[encoded data removed]",
      "text/plain": [
       "<Figure size 432x288 with 2 Axes>"
      ]
     },
     "metadata": {
      "needs_background": "light"
     },
     "output_type": "display_data"
    }
   ],
   "source": [
    "# Compute confusion matrix\n",
    "sas_cnf_matrix = confusion_matrix(data.isFraud, data.sas_predicted)\n",
    "\n",
    "# Sas matrix not normalized\n",
    "plt.figure()\n",
    "plot_confusion_matrix(sas_cnf_matrix, classes=['Not Fraud','Fraud'],\n",
    "                      title='SAS')\n",
    "\n",
    "# SAS matrix normalized\n",
    "plt.figure()\n",
    "plot_confusion_matrix(sas_cnf_matrix, normalize = True, classes=['Not Fraud','Fraud'],\n",
    "                      title='SAS - Normalized')"
   ]
  },
  {
   "cell_type": "markdown",
   "metadata": {},
   "source": [
    "# XG Boost"
   ]
  },
  {
   "cell_type": "code",
   "execution_count": 9,
   "metadata": {},
   "outputs": [
    {
     "name": "stdout",
     "output_type": "stream",
     "text": [
      "Confusion matrix, without normalization\n",
      "[[34106    87]\n",
      " [  804   436]]\n",
      "Normalized confusion matrix\n",
      "[[0.99745562 0.00254438]\n",
      " [0.6483871  0.3516129 ]]\n"
     ]
    },
    {
     "data": {
      "image/png": "[encoded data removed]",
      "text/plain": [
       "<Figure size 432x288 with 2 Axes>"
      ]
     },
     "metadata": {
      "needs_background": "light"
     },
     "output_type": "display_data"
    },
    {
     "data": {
      "image/png": "[encoded data removed]",
      "text/plain": [
       "<Figure size 432x288 with 2 Axes>"
      ]
     },
     "metadata": {
      "needs_background": "light"
     },
     "output_type": "display_data"
    }
   ],
   "source": [
    "# Compute confusion matrix\n",
    "xgb_cnf_matrix = confusion_matrix(data.isFraud, data.xgboost_predicted)\n",
    "# Plot confusion matrix\n",
    "\n",
    "plt.figure()\n",
    "plot_confusion_matrix(xgb_cnf_matrix, classes=['Not Fraud','Fraud'],\n",
    "                      title='Xg Boost')\n",
    "\n",
    "plt.figure()\n",
    "plot_confusion_matrix(xgb_cnf_matrix, normalize = True, classes=['Not Fraud','Fraud'],\n",
    "                      title='Xg Boost - Normalized')"
   ]
  },
  {
   "cell_type": "markdown",
   "metadata": {},
   "source": [
    "_____________________________________________"
   ]
  },
  {
   "cell_type": "markdown",
   "metadata": {},
   "source": [
    "# **ROC Curve**"
   ]
  },
  {
   "cell_type": "code",
   "execution_count": 10,
   "metadata": {},
   "outputs": [],
   "source": [
    "# from sklearn.metrics import roc_curve,auc, roc_auc_score, classification_report\n",
    "# from sklearn.metrics import confusion_matrix"
   ]
  },
  {
   "cell_type": "markdown",
   "metadata": {},
   "source": [
    "# **SAS**"
   ]
  },
  {
   "cell_type": "code",
   "execution_count": 11,
   "metadata": {},
   "outputs": [
    {
     "data": {
      "image/png": "[encoded data removed]",
      "text/plain": [
       "<Figure size 432x288 with 1 Axes>"
      ]
     },
     "metadata": {
      "needs_background": "light"
     },
     "output_type": "display_data"
    }
   ],
   "source": [
    "FPR, TPR, thresholds = roc_curve(data.isFraud, data.sas_pred)\n",
    "\n",
    "def plot_roc_curve(FPR, TPR):\n",
    "    plt.plot(FPR, TPR, color='orange', label='ROC')\n",
    "    plt.plot([0, 1], [0, 1], color='darkblue', linestyle='--')\n",
    "    plt.xlabel('False Positive Rate')\n",
    "    plt.ylabel('True Positive Rate')\n",
    "    plt.title('Receiver Operating Characteristic (ROC) Curve\\nSAS')\n",
    "    plt.legend()\n",
    "    plt.show()\n",
    "\n",
    "plot_roc_curve(FPR, TPR)\n"
   ]
  },
  {
   "cell_type": "markdown",
   "metadata": {},
   "source": [
    "# **XG Boost**"
   ]
  },
  {
   "cell_type": "code",
   "execution_count": 12,
   "metadata": {},
   "outputs": [
    {
     "data": {
      "image/png": "[encoded data removed]",
      "text/plain": [
       "<Figure size 432x288 with 1 Axes>"
      ]
     },
     "metadata": {
      "needs_background": "light"
     },
     "output_type": "display_data"
    }
   ],
   "source": [
    "fpr, tpr, thresholds = roc_curve(data.isFraud, data.xgboost_pred)\n",
    "\n",
    "def plot_roc_curve(fpr, tpr):\n",
    "    plt.plot(fpr, tpr, color='blue', label='ROC')\n",
    "    plt.plot([0, 1], [0, 1], color='darkblue', linestyle='--')\n",
    "    plt.xlabel('False Positive Rate')\n",
    "    plt.ylabel('True Positive Rate')\n",
    "    plt.title('Receiver Operating Characteristic (ROC) Curve \\n XG Boost')\n",
    "    plt.legend()\n",
    "    plt.show()\n",
    "\n",
    "plot_roc_curve(fpr, tpr)"
   ]
  },
  {
   "cell_type": "markdown",
   "metadata": {},
   "source": [
    "# **ROC Layered**"
   ]
  },
  {
   "cell_type": "code",
   "execution_count": 13,
   "metadata": {},
   "outputs": [
    {
     "data": {
      "image/png": "[encoded data removed]",
      "text/plain": [
       "<Figure size 432x288 with 1 Axes>"
      ]
     },
     "metadata": {
      "needs_background": "light"
     },
     "output_type": "display_data"
    }
   ],
   "source": [
    "FPR, TPR, thresholds = roc_curve(data.isFraud, data.sas_pred)\n",
    "fpr, tpr, thresholds = roc_curve(data.isFraud, data.xgboost_pred)\n",
    "\n",
    "def plot_roc_curve(FPR, TPR, fpr, tpr):\n",
    "    plt.plot(fpr, tpr, color='blue', label='XG Boost')\n",
    "    plt.plot(FPR, TPR, color = 'orange', label = \"SAS\")\n",
    "    plt.plot([0, 1], [0, 1], color='darkblue', linestyle='--')\n",
    "    plt.xlabel('False Positive Rate')\n",
    "    plt.ylabel('True Positive Rate')\n",
    "    plt.title('Receiver Operating Characteristic (ROC) Curve\\n SAS & XBG')\n",
    "    plt.legend()\n",
    "    plt.show()\n",
    "\n",
    "plot_roc_curve(FPR, TPR, fpr, tpr)\n"
   ]
  },
  {
   "cell_type": "markdown",
   "metadata": {},
   "source": [
    "_________________________________________"
   ]
  },
  {
   "cell_type": "markdown",
   "metadata": {},
   "source": [
    "# **Results**"
   ]
  },
  {
   "cell_type": "markdown",
   "metadata": {},
   "source": [
    "# SAS"
   ]
  },
  {
   "cell_type": "code",
   "execution_count": 14,
   "metadata": {},
   "outputs": [
    {
     "name": "stdout",
     "output_type": "stream",
     "text": [
      "SAS Report\n",
      "\n",
      "roc_auc_score: 0.623\n",
      "----------------------------------------------------------------------\n",
      "SAS               precision    recall  f1-score   support\n",
      "\n",
      "           0       0.97      1.00      0.99     34193\n",
      "           1       0.82      0.25      0.38      1240\n",
      "\n",
      "    accuracy                           0.97     35433\n",
      "   macro avg       0.90      0.62      0.68     35433\n",
      "weighted avg       0.97      0.97      0.96     35433\n",
      "\n",
      "----------------------------------------------------------------------\n",
      "Confusion matrix \n",
      " [[34126    67]\n",
      " [  933   307]]\n"
     ]
    }
   ],
   "source": [
    "print(\"SAS Report\\n\")\n",
    "print('roc_auc_score: %0.3f'% roc_auc_score(data.isFraud, data.sas_predicted))\n",
    "print(\"----------------------------------------------------------------------\")\n",
    "print(\"SAS\", classification_report(data.isFraud, data.sas_predicted))\n",
    "print(\"----------------------------------------------------------------------\")\n",
    "print(\"Confusion matrix \\n\",confusion_matrix(data.isFraud, data.sas_predicted))"
   ]
  },
  {
   "cell_type": "markdown",
   "metadata": {},
   "source": [
    "# XG Boost"
   ]
  },
  {
   "cell_type": "code",
   "execution_count": 15,
   "metadata": {},
   "outputs": [
    {
     "name": "stdout",
     "output_type": "stream",
     "text": [
      "XG Boost Report\n",
      "\n",
      "roc_auc_score: 0.675\n",
      "----------------------------------------------------------------------\n",
      "XG Boost               precision    recall  f1-score   support\n",
      "\n",
      "           0       0.98      1.00      0.99     34193\n",
      "           1       0.83      0.35      0.49      1240\n",
      "\n",
      "    accuracy                           0.97     35433\n",
      "   macro avg       0.91      0.67      0.74     35433\n",
      "weighted avg       0.97      0.97      0.97     35433\n",
      "\n",
      "----------------------------------------------------------------------\n",
      "Confusion matrix \n",
      " [[34106    87]\n",
      " [  804   436]]\n"
     ]
    }
   ],
   "source": [
    "print(\"XG Boost Report\\n\")\n",
    "print('roc_auc_score: %0.3f'% roc_auc_score(data.isFraud, data.xgboost_predicted))\n",
    "print(\"----------------------------------------------------------------------\")\n",
    "print(\"XG Boost\", classification_report(data.isFraud, data.xgboost_predicted))\n",
    "print(\"----------------------------------------------------------------------\")\n",
    "print(\"Confusion matrix \\n\",confusion_matrix(data.isFraud, data.xgboost_predicted))"
   ]
  }
 ],
 "metadata": {
  "kernelspec": {
   "display_name": "Python 3",
   "language": "python",
   "name": "python3"
  },
  "language_info": {
   "codemirror_mode": {
    "name": "ipython",
    "version": 3
   },
   "file_extension": ".py",
   "mimetype": "text/x-python",
   "name": "python",
   "nbconvert_exporter": "python",
   "pygments_lexer": "ipython3",
   "version": "3.7.3"
  }
 },
 "nbformat": 4,
 "nbformat_minor": 4
}
